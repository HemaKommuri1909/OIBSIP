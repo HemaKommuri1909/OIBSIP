{
 "cells": [
  {
   "cell_type": "code",
   "execution_count": 1,
   "id": "59a14d59",
   "metadata": {},
   "outputs": [
    {
     "name": "stdout",
     "output_type": "stream",
     "text": [
      "Enter the password length of your choice : kommuri03\n"
     ]
    },
    {
     "ename": "ValueError",
     "evalue": "invalid literal for int() with base 10: 'kommuri03'",
     "output_type": "error",
     "traceback": [
      "\u001b[1;31m---------------------------------------------------------------------------\u001b[0m",
      "\u001b[1;31mValueError\u001b[0m                                Traceback (most recent call last)",
      "Cell \u001b[1;32mIn[1], line 5\u001b[0m\n\u001b[0;32m      2\u001b[0m \u001b[38;5;28;01mimport\u001b[39;00m \u001b[38;5;21;01mrandom\u001b[39;00m\n\u001b[0;32m      4\u001b[0m \u001b[38;5;66;03m# Getting password length\u001b[39;00m\n\u001b[1;32m----> 5\u001b[0m length \u001b[38;5;241m=\u001b[39m \u001b[38;5;28;43mint\u001b[39;49m\u001b[43m(\u001b[49m\u001b[38;5;28;43minput\u001b[39;49m\u001b[43m(\u001b[49m\u001b[38;5;124;43m\"\u001b[39;49m\u001b[38;5;124;43mEnter the password length of your choice : \u001b[39;49m\u001b[38;5;124;43m\"\u001b[39;49m\u001b[43m)\u001b[49m\u001b[43m)\u001b[49m\n\u001b[0;32m      7\u001b[0m \u001b[38;5;28mprint\u001b[39m(\u001b[38;5;124m'''\u001b[39m\u001b[38;5;124mChoose character set for password from these : \u001b[39m\n\u001b[0;32m      8\u001b[0m \u001b[38;5;124m\t\t1. Digits of your choice\u001b[39m\n\u001b[0;32m      9\u001b[0m \u001b[38;5;124m\t\t2. Letters of your choice\u001b[39m\n\u001b[0;32m     10\u001b[0m \u001b[38;5;124m\t\t3. Special characters of your choice\u001b[39m\n\u001b[0;32m     11\u001b[0m \u001b[38;5;124m\t\t4. Exit\u001b[39m\u001b[38;5;124m'''\u001b[39m)\n\u001b[0;32m     13\u001b[0m characterList \u001b[38;5;241m=\u001b[39m \u001b[38;5;124m\"\u001b[39m\u001b[38;5;124m\"\u001b[39m\n",
      "\u001b[1;31mValueError\u001b[0m: invalid literal for int() with base 10: 'kommuri03'"
     ]
    }
   ],
   "source": [
    "import string\n",
    "import random\n",
    "\n",
    "# Getting password length\n",
    "length = int(input(\"Enter the password length of your choice : \"))\n",
    "\n",
    "print('''Choose character set for password from these : \n",
    "\t\t1. Digits of your choice\n",
    "\t\t2. Letters of your choice\n",
    "\t\t3. Special characters of your choice\n",
    "\t\t4. Exit''')\n",
    "\n",
    "characterList = \"\"\n",
    "\n",
    "# Getting character set for password\n",
    "while(True):\n",
    "\tchoice = int(input(\"Pick a number \"))\n",
    "\tif(choice == 1):\n",
    "\t\t\n",
    "\t\t# Adding letters to possible characters\n",
    "\t\tcharacterList += string.ascii_letters\n",
    "\telif(choice == 2):\n",
    "\t\t\n",
    "\t\t# Adding digits to possible characters\n",
    "\t\tcharacterList += string.digits\n",
    "\telif(choice == 3):\n",
    "\t\t\n",
    "\t\t# Adding special characters to possible\n",
    "\t\t# characters\n",
    "\t\tcharacterList += string.punctuation\n",
    "\telif(choice == 4):\n",
    "\t\tbreak\n",
    "\telse:\n",
    "\t\tprint(\"Please pick a valid option!\")\n",
    "\n",
    "password = []\n",
    "\n",
    "for i in range(length):\n",
    "\n",
    "\t# Picking a random character from our \n",
    "\t# character list\n",
    "\trandomchar = random.choice(characterList)\n",
    "\t\n",
    "\t# appending a random character to password\n",
    "\tpassword.append(randomchar)\n",
    "\n",
    "# printing password as a string\n",
    "print(\"your random password is \" + \"\".join(password))"
   ]
  },
  {
   "cell_type": "code",
   "execution_count": null,
   "id": "0860fdfe",
   "metadata": {},
   "outputs": [],
   "source": []
  },
  {
   "cell_type": "code",
   "execution_count": 2,
   "id": "549c34dc",
   "metadata": {},
   "outputs": [
    {
     "name": "stdout",
     "output_type": "stream",
     "text": [
      "Enter the password length of your choice : 6\n",
      "Choose character set for password from these : \n",
      "\t\t1. Digits of your choice\n",
      "\t\t2. Letters of your choice\n",
      "\t\t3. Special characters of your choice\n",
      "\t\t4. Exit\n",
      "Pick a number 1\n",
      "Pick a number 1\n",
      "Pick a number 2\n",
      "Pick a number 4\n",
      "your random password is BVdsjY\n"
     ]
    }
   ],
   "source": [
    "import string\n",
    "import random\n",
    "\n",
    "# Getting password length\n",
    "length = int(input(\"Enter the password length of your choice : \"))\n",
    "\n",
    "print('''Choose character set for password from these : \n",
    "\t\t1. Digits of your choice\n",
    "\t\t2. Letters of your choice\n",
    "\t\t3. Special characters of your choice\n",
    "\t\t4. Exit''')\n",
    "\n",
    "characterList = \"\"\n",
    "\n",
    "# Getting character set for password\n",
    "while(True):\n",
    "\tchoice = int(input(\"Pick a number \"))\n",
    "\tif(choice == 1):\n",
    "\t\t\n",
    "\t\t# Adding letters to possible characters\n",
    "\t\tcharacterList += string.ascii_letters\n",
    "\telif(choice == 2):\n",
    "\t\t\n",
    "\t\t# Adding digits to possible characters\n",
    "\t\tcharacterList += string.digits\n",
    "\telif(choice == 3):\n",
    "\t\t\n",
    "\t\t# Adding special characters to possible\n",
    "\t\t# characters\n",
    "\t\tcharacterList += string.punctuation\n",
    "\telif(choice == 4):\n",
    "\t\tbreak\n",
    "\telse:\n",
    "\t\tprint(\"Please pick a valid option!\")\n",
    "\n",
    "password = []\n",
    "\n",
    "for i in range(length):\n",
    "\n",
    "\t# Picking a random character from our \n",
    "\t# character list\n",
    "\trandomchar = random.choice(characterList)\n",
    "\t\n",
    "\t# appending a random character to password\n",
    "\tpassword.append(randomchar)\n",
    "\n",
    "# printing password as a string\n",
    "print(\"your random password is \" + \"\".join(password))"
   ]
  },
  {
   "cell_type": "code",
   "execution_count": null,
   "id": "62739e3e",
   "metadata": {},
   "outputs": [],
   "source": []
  },
  {
   "cell_type": "code",
   "execution_count": null,
   "id": "d8cc75c3",
   "metadata": {},
   "outputs": [],
   "source": []
  }
 ],
 "metadata": {
  "kernelspec": {
   "display_name": "Python 3 (ipykernel)",
   "language": "python",
   "name": "python3"
  },
  "language_info": {
   "codemirror_mode": {
    "name": "ipython",
    "version": 3
   },
   "file_extension": ".py",
   "mimetype": "text/x-python",
   "name": "python",
   "nbconvert_exporter": "python",
   "pygments_lexer": "ipython3",
   "version": "3.10.9"
  }
 },
 "nbformat": 4,
 "nbformat_minor": 5
}
