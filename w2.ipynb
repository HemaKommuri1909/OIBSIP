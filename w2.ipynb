{
 "cells": [
  {
   "cell_type": "code",
   "execution_count": 1,
   "id": "efe7c863",
   "metadata": {},
   "outputs": [
    {
     "name": "stdout",
     "output_type": "stream",
     "text": [
      "Enter the name of the city: mumbai\n",
      "Weather forecast in mumbai:\n",
      "Temperature in mumbai: 31.99°C\n",
      "Description: smoke\n",
      "Humidity in mumbai: 45%\n",
      "Wind Speed in mumbai: 3.6 m/s\n"
     ]
    }
   ],
   "source": [
    "import requests\n",
    "\n",
    "def get_weather(api_key, city):\n",
    "    base_url = \"http://api.openweathermap.org/data/2.5/weather\"\n",
    "    params = {\"q\": city, \"appid\": api_key, \"units\": \"metric\"}  # You can change the units to imperial if you prefer Fahrenheit\n",
    "\n",
    "    try:\n",
    "        response = requests.get(base_url, params=params)\n",
    "        data = response.json()\n",
    "\n",
    "        if response.status_code == 200:\n",
    "            print(f\"Weather forecast in {city}:\")\n",
    "            print(f\"Temperature in {city}: {data['main']['temp']}°C\")\n",
    "            print(f\"Description: {data['weather'][0]['description']}\")\n",
    "            print(f\"Humidity in {city}: {data['main']['humidity']}%\")\n",
    "            print(f\"Wind Speed in {city}: {data['wind']['speed']} m/s\")\n",
    "        else:\n",
    "            print(f\"Error: {data['message']}\")\n",
    "\n",
    "    except Exception as e:\n",
    "        print(f\"An error occurred: {e}\")\n",
    "\n",
    "if __name__ == \"__main__\":\n",
    "    api_key = \"e7b5099e5f6abd30c205894ceebdf8f1\"\n",
    "    city = input(\"Enter the name of the city: \")\n",
    "    get_weather(api_key, city)\n"
   ]
  },
  {
   "cell_type": "code",
   "execution_count": null,
   "id": "19f84dd6",
   "metadata": {},
   "outputs": [],
   "source": []
  }
 ],
 "metadata": {
  "kernelspec": {
   "display_name": "Python 3 (ipykernel)",
   "language": "python",
   "name": "python3"
  },
  "language_info": {
   "codemirror_mode": {
    "name": "ipython",
    "version": 3
   },
   "file_extension": ".py",
   "mimetype": "text/x-python",
   "name": "python",
   "nbconvert_exporter": "python",
   "pygments_lexer": "ipython3",
   "version": "3.10.9"
  }
 },
 "nbformat": 4,
 "nbformat_minor": 5
}
